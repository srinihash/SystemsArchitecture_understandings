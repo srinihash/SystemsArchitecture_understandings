{
  "nbformat": 4,
  "nbformat_minor": 0,
  "metadata": {
    "colab": {
      "name": "netflix_architecture_references_and_understandings.ipynb",
      "provenance": [],
      "authorship_tag": "ABX9TyOfX67OX1M+dXX+W7MQlIkS",
      "include_colab_link": true
    },
    "kernelspec": {
      "name": "python3",
      "display_name": "Python 3"
    }
  },
  "cells": [
    {
      "cell_type": "markdown",
      "metadata": {
        "id": "view-in-github",
        "colab_type": "text"
      },
      "source": [
        "<a href=\"https://colab.research.google.com/github/srinihash/SystemsArchitecture_understandings/blob/master/netflix_architecture_references_and_understandings.ipynb\" target=\"_parent\"><img src=\"https://colab.research.google.com/assets/colab-badge.svg\" alt=\"Open In Colab\"/></a>"
      ]
    },
    {
      "cell_type": "markdown",
      "metadata": {
        "id": "9FElQj2IYHXx",
        "colab_type": "text"
      },
      "source": [
        "**Netflix Internal Workings :**\n",
        "\n",
        "https://medium.com/swlh/a-design-analysis-of-cloud-based-microservices-architecture-at-netflix-98836b2da45f\n",
        "\n",
        "**Associated components in the solution :**\n",
        "\n",
        "https://github.com/Netflix/EVCache\n",
        "\n",
        "https://github.com/netflix/eureka\n",
        "\n",
        "https://github.com/Netflix/hystrix (currently in Maintenance mode)\n",
        "\n",
        "https://github.com/resilience4j/resilience4j\n",
        "\n",
        "Netflix's cloud gateway (runnig on EC2 instances) : https://netflixtechblog.com/open-sourcing-zuul-2-82ea476cb2b3 , https://github.com/netflix/zuul/\n",
        "\n"
      ]
    }
  ]
}